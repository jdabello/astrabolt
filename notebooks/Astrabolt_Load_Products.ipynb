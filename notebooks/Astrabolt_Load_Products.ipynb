{
  "cells": [
    {
      "cell_type": "markdown",
      "source": [
        "# Astrabolt - Load Products\n",
        "\n",
        "This notebook uses **ragstack-ai** and **google-cloud-aiplatform** to connect to Astra DB, create the collections needed, and insert the product catalog with its vector embeddings using gemini multimodal embeeding."
      ],
      "metadata": {
        "id": "W6FMinFdffHe"
      }
    },
    {
      "cell_type": "markdown",
      "source": [
        "## Install Dependencies, Authenticate, and Create Collections"
      ],
      "metadata": {
        "id": "WyOlOCBffReR"
      }
    },
    {
      "cell_type": "code",
      "execution_count": null,
      "metadata": {
        "colab": {
          "base_uri": "https://localhost:8080/"
        },
        "id": "_96ckwgXjv-3",
        "outputId": "178d7d85-ccdf-4688-ccf2-f74b42853290"
      },
      "outputs": [
        {
          "output_type": "stream",
          "name": "stdout",
          "text": [
            "Requirement already satisfied: google-cloud-aiplatform in /usr/local/lib/python3.10/dist-packages (1.38.1)\n",
            "Collecting ragstack-ai\n",
            "  Downloading ragstack_ai-0.4.0-py3-none-any.whl (4.2 kB)\n",
            "Requirement already satisfied: google-api-core[grpc]!=2.0.*,!=2.1.*,!=2.2.*,!=2.3.*,!=2.4.*,!=2.5.*,!=2.6.*,!=2.7.*,<3.0.0dev,>=1.32.0 in /usr/local/lib/python3.10/dist-packages (from google-cloud-aiplatform) (2.11.1)\n",
            "Requirement already satisfied: proto-plus<2.0.0dev,>=1.22.0 in /usr/local/lib/python3.10/dist-packages (from google-cloud-aiplatform) (1.23.0)\n",
            "Requirement already satisfied: protobuf!=3.20.0,!=3.20.1,!=4.21.0,!=4.21.1,!=4.21.2,!=4.21.3,!=4.21.4,!=4.21.5,<5.0.0dev,>=3.19.5 in /usr/local/lib/python3.10/dist-packages (from google-cloud-aiplatform) (3.20.3)\n",
            "Requirement already satisfied: packaging>=14.3 in /usr/local/lib/python3.10/dist-packages (from google-cloud-aiplatform) (23.2)\n",
            "Requirement already satisfied: google-cloud-storage<3.0.0dev,>=1.32.0 in /usr/local/lib/python3.10/dist-packages (from google-cloud-aiplatform) (2.8.0)\n",
            "Requirement already satisfied: google-cloud-bigquery<4.0.0dev,>=1.15.0 in /usr/local/lib/python3.10/dist-packages (from google-cloud-aiplatform) (3.12.0)\n",
            "Requirement already satisfied: google-cloud-resource-manager<3.0.0dev,>=1.3.3 in /usr/local/lib/python3.10/dist-packages (from google-cloud-aiplatform) (1.11.0)\n",
            "Requirement already satisfied: shapely<3.0.0dev in /usr/local/lib/python3.10/dist-packages (from google-cloud-aiplatform) (2.0.2)\n",
            "Collecting astrapy<0.7.0,>=0.6.2 (from ragstack-ai)\n",
            "  Downloading astrapy-0.6.2-py3-none-any.whl (21 kB)\n",
            "Collecting cassio<0.2.0,>=0.1.3 (from ragstack-ai)\n",
            "  Downloading cassio-0.1.3-py3-none-any.whl (40 kB)\n",
            "\u001b[2K     \u001b[90m━━━━━━━━━━━━━━━━━━━━━━━━━━━━━━━━━━━━━━━━\u001b[0m \u001b[32m40.1/40.1 kB\u001b[0m \u001b[31m2.3 MB/s\u001b[0m eta \u001b[36m0:00:00\u001b[0m\n",
            "\u001b[?25hCollecting langchain-community==0.0.3 (from ragstack-ai)\n",
            "  Downloading langchain_community-0.0.3-py3-none-any.whl (1.5 MB)\n",
            "\u001b[2K     \u001b[90m━━━━━━━━━━━━━━━━━━━━━━━━━━━━━━━━━━━━━━━━\u001b[0m \u001b[32m1.5/1.5 MB\u001b[0m \u001b[31m11.9 MB/s\u001b[0m eta \u001b[36m0:00:00\u001b[0m\n",
            "\u001b[?25hCollecting langchain-core==0.1.1 (from ragstack-ai)\n",
            "  Downloading langchain_core-0.1.1-py3-none-any.whl (190 kB)\n",
            "\u001b[2K     \u001b[90m━━━━━━━━━━━━━━━━━━━━━━━━━━━━━━━━━━━━━━━━\u001b[0m \u001b[32m190.6/190.6 kB\u001b[0m \u001b[31m6.0 MB/s\u001b[0m eta \u001b[36m0:00:00\u001b[0m\n",
            "\u001b[?25hCollecting langchain[openai]==0.0.350 (from ragstack-ai)\n",
            "  Downloading langchain-0.0.350-py3-none-any.whl (809 kB)\n",
            "\u001b[2K     \u001b[90m━━━━━━━━━━━━━━━━━━━━━━━━━━━━━━━━━━━━━━━━\u001b[0m \u001b[32m809.1/809.1 kB\u001b[0m \u001b[31m8.5 MB/s\u001b[0m eta \u001b[36m0:00:00\u001b[0m\n",
            "\u001b[?25hCollecting llama-index[langchain]==0.9.14 (from ragstack-ai)\n",
            "  Downloading llama_index-0.9.14-py3-none-any.whl (940 kB)\n",
            "\u001b[2K     \u001b[90m━━━━━━━━━━━━━━━━━━━━━━━━━━━━━━━━━━━━━━━━\u001b[0m \u001b[32m940.5/940.5 kB\u001b[0m \u001b[31m16.0 MB/s\u001b[0m eta \u001b[36m0:00:00\u001b[0m\n",
            "\u001b[?25hCollecting unstructured<0.11,>=0.10 (from ragstack-ai)\n",
            "  Downloading unstructured-0.10.30-py3-none-any.whl (1.7 MB)\n",
            "\u001b[2K     \u001b[90m━━━━━━━━━━━━━━━━━━━━━━━━━━━━━━━━━━━━━━━━\u001b[0m \u001b[32m1.7/1.7 MB\u001b[0m \u001b[31m23.5 MB/s\u001b[0m eta \u001b[36m0:00:00\u001b[0m\n",
            "\u001b[?25hRequirement already satisfied: PyYAML>=5.3 in /usr/local/lib/python3.10/dist-packages (from langchain-community==0.0.3->ragstack-ai) (6.0.1)\n",
            "Requirement already satisfied: SQLAlchemy<3,>=1.4 in /usr/local/lib/python3.10/dist-packages (from langchain-community==0.0.3->ragstack-ai) (2.0.23)\n",
            "Requirement already satisfied: aiohttp<4.0.0,>=3.8.3 in /usr/local/lib/python3.10/dist-packages (from langchain-community==0.0.3->ragstack-ai) (3.9.1)\n",
            "Collecting dataclasses-json<0.7,>=0.5.7 (from langchain-community==0.0.3->ragstack-ai)\n",
            "  Downloading dataclasses_json-0.6.3-py3-none-any.whl (28 kB)\n",
            "Collecting langsmith<0.1.0,>=0.0.63 (from langchain-community==0.0.3->ragstack-ai)\n",
            "  Downloading langsmith-0.0.75-py3-none-any.whl (46 kB)\n",
            "\u001b[2K     \u001b[90m━━━━━━━━━━━━━━━━━━━━━━━━━━━━━━━━━━━━━━━━\u001b[0m \u001b[32m46.7/46.7 kB\u001b[0m \u001b[31m4.1 MB/s\u001b[0m eta \u001b[36m0:00:00\u001b[0m\n",
            "\u001b[?25hRequirement already satisfied: numpy<2,>=1 in /usr/local/lib/python3.10/dist-packages (from langchain-community==0.0.3->ragstack-ai) (1.23.5)\n",
            "Requirement already satisfied: requests<3,>=2 in /usr/local/lib/python3.10/dist-packages (from langchain-community==0.0.3->ragstack-ai) (2.31.0)\n",
            "Requirement already satisfied: tenacity<9.0.0,>=8.1.0 in /usr/local/lib/python3.10/dist-packages (from langchain-community==0.0.3->ragstack-ai) (8.2.3)\n",
            "Requirement already satisfied: anyio<5,>=3 in /usr/local/lib/python3.10/dist-packages (from langchain-core==0.1.1->ragstack-ai) (3.7.1)\n",
            "Collecting jsonpatch<2.0,>=1.33 (from langchain-core==0.1.1->ragstack-ai)\n",
            "  Downloading jsonpatch-1.33-py2.py3-none-any.whl (12 kB)\n",
            "Requirement already satisfied: pydantic<3,>=1 in /usr/local/lib/python3.10/dist-packages (from langchain-core==0.1.1->ragstack-ai) (1.10.13)\n",
            "Requirement already satisfied: async-timeout<5.0.0,>=4.0.0 in /usr/local/lib/python3.10/dist-packages (from langchain[openai]==0.0.350->ragstack-ai) (4.0.3)\n",
            "Collecting openai<2 (from langchain[openai]==0.0.350->ragstack-ai)\n",
            "  Downloading openai-1.6.1-py3-none-any.whl (225 kB)\n",
            "\u001b[2K     \u001b[90m━━━━━━━━━━━━━━━━━━━━━━━━━━━━━━━━━━━━━━━━\u001b[0m \u001b[32m225.4/225.4 kB\u001b[0m \u001b[31m16.3 MB/s\u001b[0m eta \u001b[36m0:00:00\u001b[0m\n",
            "\u001b[?25hCollecting tiktoken<0.6.0,>=0.3.2 (from langchain[openai]==0.0.350->ragstack-ai)\n",
            "  Downloading tiktoken-0.5.2-cp310-cp310-manylinux_2_17_x86_64.manylinux2014_x86_64.whl (2.0 MB)\n",
            "\u001b[2K     \u001b[90m━━━━━━━━━━━━━━━━━━━━━━━━━━━━━━━━━━━━━━━━\u001b[0m \u001b[32m2.0/2.0 MB\u001b[0m \u001b[31m26.9 MB/s\u001b[0m eta \u001b[36m0:00:00\u001b[0m\n",
            "\u001b[?25hCollecting beautifulsoup4<5.0.0,>=4.12.2 (from llama-index[langchain]==0.9.14->ragstack-ai)\n",
            "  Downloading beautifulsoup4-4.12.2-py3-none-any.whl (142 kB)\n",
            "\u001b[2K     \u001b[90m━━━━━━━━━━━━━━━━━━━━━━━━━━━━━━━━━━━━━━━━\u001b[0m \u001b[32m143.0/143.0 kB\u001b[0m \u001b[31m12.2 MB/s\u001b[0m eta \u001b[36m0:00:00\u001b[0m\n",
            "\u001b[?25hCollecting deprecated>=1.2.9.3 (from llama-index[langchain]==0.9.14->ragstack-ai)\n",
            "  Downloading Deprecated-1.2.14-py2.py3-none-any.whl (9.6 kB)\n",
            "Requirement already satisfied: fsspec>=2023.5.0 in /usr/local/lib/python3.10/dist-packages (from llama-index[langchain]==0.9.14->ragstack-ai) (2023.6.0)\n",
            "Collecting httpx (from llama-index[langchain]==0.9.14->ragstack-ai)\n",
            "  Downloading httpx-0.26.0-py3-none-any.whl (75 kB)\n",
            "\u001b[2K     \u001b[90m━━━━━━━━━━━━━━━━━━━━━━━━━━━━━━━━━━━━━━━━\u001b[0m \u001b[32m75.9/75.9 kB\u001b[0m \u001b[31m6.6 MB/s\u001b[0m eta \u001b[36m0:00:00\u001b[0m\n",
            "\u001b[?25hRequirement already satisfied: nest-asyncio<2.0.0,>=1.5.8 in /usr/local/lib/python3.10/dist-packages (from llama-index[langchain]==0.9.14->ragstack-ai) (1.5.8)\n",
            "Requirement already satisfied: nltk<4.0.0,>=3.8.1 in /usr/local/lib/python3.10/dist-packages (from llama-index[langchain]==0.9.14->ragstack-ai) (3.8.1)\n",
            "Requirement already satisfied: pandas in /usr/local/lib/python3.10/dist-packages (from llama-index[langchain]==0.9.14->ragstack-ai) (1.5.3)\n",
            "Requirement already satisfied: typing-extensions>=4.5.0 in /usr/local/lib/python3.10/dist-packages (from llama-index[langchain]==0.9.14->ragstack-ai) (4.5.0)\n",
            "Collecting typing-inspect>=0.8.0 (from llama-index[langchain]==0.9.14->ragstack-ai)\n",
            "  Downloading typing_inspect-0.9.0-py3-none-any.whl (8.8 kB)\n",
            "Collecting httpx[http2]~=0.25.1 (from astrapy<0.7.0,>=0.6.2->ragstack-ai)\n",
            "  Downloading httpx-0.25.2-py3-none-any.whl (74 kB)\n",
            "\u001b[2K     \u001b[90m━━━━━━━━━━━━━━━━━━━━━━━━━━━━━━━━━━━━━━━━\u001b[0m \u001b[32m75.0/75.0 kB\u001b[0m \u001b[31m7.6 MB/s\u001b[0m eta \u001b[36m0:00:00\u001b[0m\n",
            "\u001b[?25hCollecting cassandra-driver>=3.28.0 (from cassio<0.2.0,>=0.1.3->ragstack-ai)\n",
            "  Downloading cassandra_driver-3.29.0-cp310-cp310-manylinux_2_17_x86_64.manylinux2014_x86_64.whl (18.8 MB)\n",
            "\u001b[2K     \u001b[90m━━━━━━━━━━━━━━━━━━━━━━━━━━━━━━━━━━━━━━━━\u001b[0m \u001b[32m18.8/18.8 MB\u001b[0m \u001b[31m45.6 MB/s\u001b[0m eta \u001b[36m0:00:00\u001b[0m\n",
            "\u001b[?25hRequirement already satisfied: googleapis-common-protos<2.0.dev0,>=1.56.2 in /usr/local/lib/python3.10/dist-packages (from google-api-core[grpc]!=2.0.*,!=2.1.*,!=2.2.*,!=2.3.*,!=2.4.*,!=2.5.*,!=2.6.*,!=2.7.*,<3.0.0dev,>=1.32.0->google-cloud-aiplatform) (1.62.0)\n",
            "Requirement already satisfied: google-auth<3.0.dev0,>=2.14.1 in /usr/local/lib/python3.10/dist-packages (from google-api-core[grpc]!=2.0.*,!=2.1.*,!=2.2.*,!=2.3.*,!=2.4.*,!=2.5.*,!=2.6.*,!=2.7.*,<3.0.0dev,>=1.32.0->google-cloud-aiplatform) (2.17.3)\n",
            "Requirement already satisfied: grpcio<2.0dev,>=1.33.2 in /usr/local/lib/python3.10/dist-packages (from google-api-core[grpc]!=2.0.*,!=2.1.*,!=2.2.*,!=2.3.*,!=2.4.*,!=2.5.*,!=2.6.*,!=2.7.*,<3.0.0dev,>=1.32.0->google-cloud-aiplatform) (1.60.0)\n",
            "Requirement already satisfied: grpcio-status<2.0.dev0,>=1.33.2 in /usr/local/lib/python3.10/dist-packages (from google-api-core[grpc]!=2.0.*,!=2.1.*,!=2.2.*,!=2.3.*,!=2.4.*,!=2.5.*,!=2.6.*,!=2.7.*,<3.0.0dev,>=1.32.0->google-cloud-aiplatform) (1.48.2)\n",
            "Requirement already satisfied: google-cloud-core<3.0.0dev,>=1.6.0 in /usr/local/lib/python3.10/dist-packages (from google-cloud-bigquery<4.0.0dev,>=1.15.0->google-cloud-aiplatform) (2.3.3)\n",
            "Requirement already satisfied: google-resumable-media<3.0dev,>=0.6.0 in /usr/local/lib/python3.10/dist-packages (from google-cloud-bigquery<4.0.0dev,>=1.15.0->google-cloud-aiplatform) (2.7.0)\n",
            "Requirement already satisfied: python-dateutil<3.0dev,>=2.7.2 in /usr/local/lib/python3.10/dist-packages (from google-cloud-bigquery<4.0.0dev,>=1.15.0->google-cloud-aiplatform) (2.8.2)\n",
            "Requirement already satisfied: grpc-google-iam-v1<1.0.0dev,>=0.12.4 in /usr/local/lib/python3.10/dist-packages (from google-cloud-resource-manager<3.0.0dev,>=1.3.3->google-cloud-aiplatform) (0.13.0)\n",
            "Requirement already satisfied: chardet in /usr/local/lib/python3.10/dist-packages (from unstructured<0.11,>=0.10->ragstack-ai) (5.2.0)\n",
            "Collecting filetype (from unstructured<0.11,>=0.10->ragstack-ai)\n",
            "  Downloading filetype-1.2.0-py2.py3-none-any.whl (19 kB)\n",
            "Collecting python-magic (from unstructured<0.11,>=0.10->ragstack-ai)\n",
            "  Downloading python_magic-0.4.27-py2.py3-none-any.whl (13 kB)\n",
            "Requirement already satisfied: lxml in /usr/local/lib/python3.10/dist-packages (from unstructured<0.11,>=0.10->ragstack-ai) (4.9.3)\n",
            "Requirement already satisfied: tabulate in /usr/local/lib/python3.10/dist-packages (from unstructured<0.11,>=0.10->ragstack-ai) (0.9.0)\n",
            "Collecting emoji (from unstructured<0.11,>=0.10->ragstack-ai)\n",
            "  Downloading emoji-2.9.0-py2.py3-none-any.whl (397 kB)\n",
            "\u001b[2K     \u001b[90m━━━━━━━━━━━━━━━━━━━━━━━━━━━━━━━━━━━━━━━━\u001b[0m \u001b[32m397.5/397.5 kB\u001b[0m \u001b[31m26.0 MB/s\u001b[0m eta \u001b[36m0:00:00\u001b[0m\n",
            "\u001b[?25hCollecting python-iso639 (from unstructured<0.11,>=0.10->ragstack-ai)\n",
            "  Downloading python_iso639-2023.12.11-py3-none-any.whl (275 kB)\n",
            "\u001b[2K     \u001b[90m━━━━━━━━━━━━━━━━━━━━━━━━━━━━━━━━━━━━━━━━\u001b[0m \u001b[32m275.1/275.1 kB\u001b[0m \u001b[31m19.6 MB/s\u001b[0m eta \u001b[36m0:00:00\u001b[0m\n",
            "\u001b[?25hCollecting langdetect (from unstructured<0.11,>=0.10->ragstack-ai)\n",
            "  Downloading langdetect-1.0.9.tar.gz (981 kB)\n",
            "\u001b[2K     \u001b[90m━━━━━━━━━━━━━━━━━━━━━━━━━━━━━━━━━━━━━━━━\u001b[0m \u001b[32m981.5/981.5 kB\u001b[0m \u001b[31m23.6 MB/s\u001b[0m eta \u001b[36m0:00:00\u001b[0m\n",
            "\u001b[?25h  Preparing metadata (setup.py) ... \u001b[?25l\u001b[?25hdone\n",
            "Collecting rapidfuzz (from unstructured<0.11,>=0.10->ragstack-ai)\n",
            "  Downloading rapidfuzz-3.6.0-cp310-cp310-manylinux_2_17_x86_64.manylinux2014_x86_64.whl (3.4 MB)\n",
            "\u001b[2K     \u001b[90m━━━━━━━━━━━━━━━━━━━━━━━━━━━━━━━━━━━━━━━━\u001b[0m \u001b[32m3.4/3.4 MB\u001b[0m \u001b[31m22.4 MB/s\u001b[0m eta \u001b[36m0:00:00\u001b[0m\n",
            "\u001b[?25hCollecting backoff (from unstructured<0.11,>=0.10->ragstack-ai)\n",
            "  Downloading backoff-2.2.1-py3-none-any.whl (15 kB)\n",
            "Requirement already satisfied: attrs>=17.3.0 in /usr/local/lib/python3.10/dist-packages (from aiohttp<4.0.0,>=3.8.3->langchain-community==0.0.3->ragstack-ai) (23.1.0)\n",
            "Requirement already satisfied: multidict<7.0,>=4.5 in /usr/local/lib/python3.10/dist-packages (from aiohttp<4.0.0,>=3.8.3->langchain-community==0.0.3->ragstack-ai) (6.0.4)\n",
            "Requirement already satisfied: yarl<2.0,>=1.0 in /usr/local/lib/python3.10/dist-packages (from aiohttp<4.0.0,>=3.8.3->langchain-community==0.0.3->ragstack-ai) (1.9.4)\n",
            "Requirement already satisfied: frozenlist>=1.1.1 in /usr/local/lib/python3.10/dist-packages (from aiohttp<4.0.0,>=3.8.3->langchain-community==0.0.3->ragstack-ai) (1.4.1)\n",
            "Requirement already satisfied: aiosignal>=1.1.2 in /usr/local/lib/python3.10/dist-packages (from aiohttp<4.0.0,>=3.8.3->langchain-community==0.0.3->ragstack-ai) (1.3.1)\n",
            "Requirement already satisfied: idna>=2.8 in /usr/local/lib/python3.10/dist-packages (from anyio<5,>=3->langchain-core==0.1.1->ragstack-ai) (3.6)\n",
            "Requirement already satisfied: sniffio>=1.1 in /usr/local/lib/python3.10/dist-packages (from anyio<5,>=3->langchain-core==0.1.1->ragstack-ai) (1.3.0)\n",
            "Requirement already satisfied: exceptiongroup in /usr/local/lib/python3.10/dist-packages (from anyio<5,>=3->langchain-core==0.1.1->ragstack-ai) (1.2.0)\n",
            "Requirement already satisfied: soupsieve>1.2 in /usr/local/lib/python3.10/dist-packages (from beautifulsoup4<5.0.0,>=4.12.2->llama-index[langchain]==0.9.14->ragstack-ai) (2.5)\n",
            "Collecting geomet<0.3,>=0.1 (from cassandra-driver>=3.28.0->cassio<0.2.0,>=0.1.3->ragstack-ai)\n",
            "  Downloading geomet-0.2.1.post1-py3-none-any.whl (18 kB)\n",
            "Collecting marshmallow<4.0.0,>=3.18.0 (from dataclasses-json<0.7,>=0.5.7->langchain-community==0.0.3->ragstack-ai)\n",
            "  Downloading marshmallow-3.20.1-py3-none-any.whl (49 kB)\n",
            "\u001b[2K     \u001b[90m━━━━━━━━━━━━━━━━━━━━━━━━━━━━━━━━━━━━━━━━\u001b[0m \u001b[32m49.4/49.4 kB\u001b[0m \u001b[31m3.8 MB/s\u001b[0m eta \u001b[36m0:00:00\u001b[0m\n",
            "\u001b[?25hRequirement already satisfied: wrapt<2,>=1.10 in /usr/local/lib/python3.10/dist-packages (from deprecated>=1.2.9.3->llama-index[langchain]==0.9.14->ragstack-ai) (1.14.1)\n",
            "Requirement already satisfied: cachetools<6.0,>=2.0.0 in /usr/local/lib/python3.10/dist-packages (from google-auth<3.0.dev0,>=2.14.1->google-api-core[grpc]!=2.0.*,!=2.1.*,!=2.2.*,!=2.3.*,!=2.4.*,!=2.5.*,!=2.6.*,!=2.7.*,<3.0.0dev,>=1.32.0->google-cloud-aiplatform) (5.3.2)\n",
            "Requirement already satisfied: pyasn1-modules>=0.2.1 in /usr/local/lib/python3.10/dist-packages (from google-auth<3.0.dev0,>=2.14.1->google-api-core[grpc]!=2.0.*,!=2.1.*,!=2.2.*,!=2.3.*,!=2.4.*,!=2.5.*,!=2.6.*,!=2.7.*,<3.0.0dev,>=1.32.0->google-cloud-aiplatform) (0.3.0)\n",
            "Requirement already satisfied: six>=1.9.0 in /usr/local/lib/python3.10/dist-packages (from google-auth<3.0.dev0,>=2.14.1->google-api-core[grpc]!=2.0.*,!=2.1.*,!=2.2.*,!=2.3.*,!=2.4.*,!=2.5.*,!=2.6.*,!=2.7.*,<3.0.0dev,>=1.32.0->google-cloud-aiplatform) (1.16.0)\n",
            "Requirement already satisfied: rsa<5,>=3.1.4 in /usr/local/lib/python3.10/dist-packages (from google-auth<3.0.dev0,>=2.14.1->google-api-core[grpc]!=2.0.*,!=2.1.*,!=2.2.*,!=2.3.*,!=2.4.*,!=2.5.*,!=2.6.*,!=2.7.*,<3.0.0dev,>=1.32.0->google-cloud-aiplatform) (4.9)\n",
            "Requirement already satisfied: google-crc32c<2.0dev,>=1.0 in /usr/local/lib/python3.10/dist-packages (from google-resumable-media<3.0dev,>=0.6.0->google-cloud-bigquery<4.0.0dev,>=1.15.0->google-cloud-aiplatform) (1.5.0)\n",
            "Requirement already satisfied: certifi in /usr/local/lib/python3.10/dist-packages (from httpx[http2]~=0.25.1->astrapy<0.7.0,>=0.6.2->ragstack-ai) (2023.11.17)\n",
            "Collecting httpcore==1.* (from httpx[http2]~=0.25.1->astrapy<0.7.0,>=0.6.2->ragstack-ai)\n",
            "  Downloading httpcore-1.0.2-py3-none-any.whl (76 kB)\n",
            "\u001b[2K     \u001b[90m━━━━━━━━━━━━━━━━━━━━━━━━━━━━━━━━━━━━━━━━\u001b[0m \u001b[32m76.9/76.9 kB\u001b[0m \u001b[31m7.3 MB/s\u001b[0m eta \u001b[36m0:00:00\u001b[0m\n",
            "\u001b[?25hCollecting h2<5,>=3 (from httpx[http2]~=0.25.1->astrapy<0.7.0,>=0.6.2->ragstack-ai)\n",
            "  Downloading h2-4.1.0-py3-none-any.whl (57 kB)\n",
            "\u001b[2K     \u001b[90m━━━━━━━━━━━━━━━━━━━━━━━━━━━━━━━━━━━━━━━━\u001b[0m \u001b[32m57.5/57.5 kB\u001b[0m \u001b[31m4.8 MB/s\u001b[0m eta \u001b[36m0:00:00\u001b[0m\n",
            "\u001b[?25hCollecting h11<0.15,>=0.13 (from httpcore==1.*->httpx[http2]~=0.25.1->astrapy<0.7.0,>=0.6.2->ragstack-ai)\n",
            "  Downloading h11-0.14.0-py3-none-any.whl (58 kB)\n",
            "\u001b[2K     \u001b[90m━━━━━━━━━━━━━━━━━━━━━━━━━━━━━━━━━━━━━━━━\u001b[0m \u001b[32m58.3/58.3 kB\u001b[0m \u001b[31m4.6 MB/s\u001b[0m eta \u001b[36m0:00:00\u001b[0m\n",
            "\u001b[?25hCollecting jsonpointer>=1.9 (from jsonpatch<2.0,>=1.33->langchain-core==0.1.1->ragstack-ai)\n",
            "  Downloading jsonpointer-2.4-py2.py3-none-any.whl (7.8 kB)\n",
            "Requirement already satisfied: click in /usr/local/lib/python3.10/dist-packages (from nltk<4.0.0,>=3.8.1->llama-index[langchain]==0.9.14->ragstack-ai) (8.1.7)\n",
            "Requirement already satisfied: joblib in /usr/local/lib/python3.10/dist-packages (from nltk<4.0.0,>=3.8.1->llama-index[langchain]==0.9.14->ragstack-ai) (1.3.2)\n",
            "Requirement already satisfied: regex>=2021.8.3 in /usr/local/lib/python3.10/dist-packages (from nltk<4.0.0,>=3.8.1->llama-index[langchain]==0.9.14->ragstack-ai) (2023.6.3)\n",
            "Requirement already satisfied: tqdm in /usr/local/lib/python3.10/dist-packages (from nltk<4.0.0,>=3.8.1->llama-index[langchain]==0.9.14->ragstack-ai) (4.66.1)\n",
            "Requirement already satisfied: distro<2,>=1.7.0 in /usr/lib/python3/dist-packages (from openai<2->langchain[openai]==0.0.350->ragstack-ai) (1.7.0)\n",
            "Collecting typing-extensions>=4.5.0 (from llama-index[langchain]==0.9.14->ragstack-ai)\n",
            "  Downloading typing_extensions-4.9.0-py3-none-any.whl (32 kB)\n",
            "Requirement already satisfied: charset-normalizer<4,>=2 in /usr/local/lib/python3.10/dist-packages (from requests<3,>=2->langchain-community==0.0.3->ragstack-ai) (3.3.2)\n",
            "Requirement already satisfied: urllib3<3,>=1.21.1 in /usr/local/lib/python3.10/dist-packages (from requests<3,>=2->langchain-community==0.0.3->ragstack-ai) (2.0.7)\n",
            "Requirement already satisfied: greenlet!=0.4.17 in /usr/local/lib/python3.10/dist-packages (from SQLAlchemy<3,>=1.4->langchain-community==0.0.3->ragstack-ai) (3.0.2)\n",
            "Collecting mypy-extensions>=0.3.0 (from typing-inspect>=0.8.0->llama-index[langchain]==0.9.14->ragstack-ai)\n",
            "  Downloading mypy_extensions-1.0.0-py3-none-any.whl (4.7 kB)\n",
            "Requirement already satisfied: pytz>=2020.1 in /usr/local/lib/python3.10/dist-packages (from pandas->llama-index[langchain]==0.9.14->ragstack-ai) (2023.3.post1)\n",
            "Collecting hyperframe<7,>=6.0 (from h2<5,>=3->httpx[http2]~=0.25.1->astrapy<0.7.0,>=0.6.2->ragstack-ai)\n",
            "  Downloading hyperframe-6.0.1-py3-none-any.whl (12 kB)\n",
            "Collecting hpack<5,>=4.0 (from h2<5,>=3->httpx[http2]~=0.25.1->astrapy<0.7.0,>=0.6.2->ragstack-ai)\n",
            "  Downloading hpack-4.0.0-py3-none-any.whl (32 kB)\n",
            "Requirement already satisfied: pyasn1<0.6.0,>=0.4.6 in /usr/local/lib/python3.10/dist-packages (from pyasn1-modules>=0.2.1->google-auth<3.0.dev0,>=2.14.1->google-api-core[grpc]!=2.0.*,!=2.1.*,!=2.2.*,!=2.3.*,!=2.4.*,!=2.5.*,!=2.6.*,!=2.7.*,<3.0.0dev,>=1.32.0->google-cloud-aiplatform) (0.5.1)\n",
            "Building wheels for collected packages: langdetect\n",
            "  Building wheel for langdetect (setup.py) ... \u001b[?25l\u001b[?25hdone\n",
            "  Created wheel for langdetect: filename=langdetect-1.0.9-py3-none-any.whl size=993225 sha256=6d5dcaf632dccc422c8b445fef294750b4d1c65e3e57f7ed001f0a44b0adf047\n",
            "  Stored in directory: /root/.cache/pip/wheels/95/03/7d/59ea870c70ce4e5a370638b5462a7711ab78fba2f655d05106\n",
            "Successfully built langdetect\n",
            "Installing collected packages: filetype, typing-extensions, rapidfuzz, python-magic, python-iso639, mypy-extensions, marshmallow, langdetect, jsonpointer, hyperframe, hpack, h11, geomet, emoji, deprecated, beautifulsoup4, backoff, typing-inspect, tiktoken, jsonpatch, httpcore, h2, cassandra-driver, langsmith, httpx, dataclasses-json, cassio, unstructured, openai, langchain-core, llama-index, langchain-community, astrapy, langchain, ragstack-ai\n",
            "  Attempting uninstall: typing-extensions\n",
            "    Found existing installation: typing_extensions 4.5.0\n",
            "    Uninstalling typing_extensions-4.5.0:\n",
            "      Successfully uninstalled typing_extensions-4.5.0\n",
            "  Attempting uninstall: beautifulsoup4\n",
            "    Found existing installation: beautifulsoup4 4.11.2\n",
            "    Uninstalling beautifulsoup4-4.11.2:\n",
            "      Successfully uninstalled beautifulsoup4-4.11.2\n",
            "\u001b[31mERROR: pip's dependency resolver does not currently take into account all the packages that are installed. This behaviour is the source of the following dependency conflicts.\n",
            "llmx 0.0.15a0 requires cohere, which is not installed.\n",
            "tensorflow-probability 0.22.0 requires typing-extensions<4.6.0, but you have typing-extensions 4.9.0 which is incompatible.\u001b[0m\u001b[31m\n",
            "\u001b[0mSuccessfully installed astrapy-0.6.2 backoff-2.2.1 beautifulsoup4-4.12.2 cassandra-driver-3.29.0 cassio-0.1.3 dataclasses-json-0.6.3 deprecated-1.2.14 emoji-2.9.0 filetype-1.2.0 geomet-0.2.1.post1 h11-0.14.0 h2-4.1.0 hpack-4.0.0 httpcore-1.0.2 httpx-0.25.2 hyperframe-6.0.1 jsonpatch-1.33 jsonpointer-2.4 langchain-0.0.350 langchain-community-0.0.3 langchain-core-0.1.1 langdetect-1.0.9 langsmith-0.0.75 llama-index-0.9.14 marshmallow-3.20.1 mypy-extensions-1.0.0 openai-1.6.1 python-iso639-2023.12.11 python-magic-0.4.27 ragstack-ai-0.4.0 rapidfuzz-3.6.0 tiktoken-0.5.2 typing-extensions-4.9.0 typing-inspect-0.9.0 unstructured-0.10.30\n"
          ]
        }
      ],
      "source": [
        "!pip install google-cloud-aiplatform ragstack-ai --upgrade"
      ]
    },
    {
      "cell_type": "code",
      "execution_count": null,
      "metadata": {
        "colab": {
          "base_uri": "https://localhost:8080/"
        },
        "id": "YvivDjx6Fl7Q",
        "outputId": "c5c91323-ddaf-4c7f-ca0e-f0daab4928db"
      },
      "outputs": [
        {
          "name": "stdout",
          "output_type": "stream",
          "text": [
            "Provide your GCP Project ID··········\n",
            "Provide your Astra DB Endpoint··········\n",
            "Provide your Astra DB Token··········\n"
          ]
        }
      ],
      "source": [
        "import getpass, os, requests\n",
        "\n",
        "if \"GCP_PROJECT_ID\" not in os.environ or True:\n",
        "  os.environ[\"GCP_PROJECT_ID\"] = getpass.getpass(\"Provide your GCP Project ID\")\n",
        "\n",
        "if \"ASTRA_DB_ENDPOINT\" not in os.environ or True:\n",
        "  os.environ[\"ASTRA_DB_ENDPOINT\"] = getpass.getpass(\"Provide your Astra DB Endpoint\")\n",
        "\n",
        "if \"ASTRA_DB_TOKEN\" not in os.environ or True:\n",
        "  os.environ[\"ASTRA_DB_TOKEN\"] = getpass.getpass(\"Provide your Astra DB Token\")"
      ]
    },
    {
      "cell_type": "code",
      "execution_count": null,
      "metadata": {
        "colab": {
          "base_uri": "https://localhost:8080/"
        },
        "id": "ghDCsYUWkL97",
        "outputId": "963448ea-fcea-4514-bba4-c075bd7a0cb0"
      },
      "outputs": [
        {
          "output_type": "stream",
          "name": "stdout",
          "text": [
            "Updated property [core/project].\n"
          ]
        }
      ],
      "source": [
        "from google.colab import auth\n",
        "from google.cloud import aiplatform\n",
        "\n",
        "!gcloud config set project {os.getenv(\"GCP_PROJECT_ID\")}\n",
        "\n",
        "auth.authenticate_user()\n"
      ]
    },
    {
      "cell_type": "code",
      "execution_count": null,
      "metadata": {
        "id": "tUg_i3BjkyG-"
      },
      "outputs": [],
      "source": [
        "from astrapy.db import AstraDB\n",
        "# Initialize our vector db\n",
        "astra_db = AstraDB(token=os.getenv(\"ASTRA_DB_TOKEN\"), api_endpoint=os.getenv(\"ASTRA_DB_ENDPOINT\"))\n",
        "collection_descriptions = astra_db.create_collection(collection_name=\"product_catalog_descriptions\", dimension=1408)\n",
        "collection_images = astra_db.create_collection(collection_name=\"product_catalog_images\", dimension=1408)"
      ]
    },
    {
      "cell_type": "markdown",
      "source": [
        "## Download Product Catalog"
      ],
      "metadata": {
        "id": "NTDhJ0-0gBhR"
      }
    },
    {
      "cell_type": "code",
      "execution_count": null,
      "metadata": {
        "id": "50FTTejNkgRg"
      },
      "outputs": [],
      "source": [
        "PRODUCT_CATALOG_URI=\"https://raw.githubusercontent.com/BestBuyAPIs/open-data-set/master/products.json\""
      ]
    },
    {
      "cell_type": "code",
      "execution_count": null,
      "metadata": {
        "colab": {
          "base_uri": "https://localhost:8080/"
        },
        "id": "4WoP6POukinA",
        "outputId": "eaa4387f-8b72-41b5-f27c-801d8182f1df"
      },
      "outputs": [
        {
          "output_type": "stream",
          "name": "stdout",
          "text": [
            "--2023-12-28 03:21:20--  https://raw.githubusercontent.com/BestBuyAPIs/open-data-set/master/products.json\n",
            "Resolving raw.githubusercontent.com (raw.githubusercontent.com)... 185.199.108.133, 185.199.109.133, 185.199.110.133, ...\n",
            "Connecting to raw.githubusercontent.com (raw.githubusercontent.com)|185.199.108.133|:443... connected.\n",
            "HTTP request sent, awaiting response... 200 OK\n",
            "Length: 39685207 (38M) [text/plain]\n",
            "Saving to: ‘products.json’\n",
            "\n",
            "products.json       100%[===================>]  37.85M   167MB/s    in 0.2s    \n",
            "\n",
            "2023-12-28 03:21:21 (167 MB/s) - ‘products.json’ saved [39685207/39685207]\n",
            "\n"
          ]
        }
      ],
      "source": [
        "!wget $PRODUCT_CATALOG_URI"
      ]
    },
    {
      "cell_type": "code",
      "execution_count": null,
      "metadata": {
        "id": "nfIUrVTDkmH8"
      },
      "outputs": [],
      "source": [
        "import json\n",
        "with open('products.json', 'r') as f:\n",
        "    data = json.load(f)\n",
        "products_slice=data[:1000] #Feel free to modify the size of the dataset as needed"
      ]
    },
    {
      "cell_type": "markdown",
      "source": [
        "## Create and Load Vector Embeddings\n",
        "We will first create some helper functions for things such as downloading images, inserting records into Astra DB. And finally we will load the data prom `products_slice` in batches."
      ],
      "metadata": {
        "id": "DLhF4nYRgWuM"
      }
    },
    {
      "cell_type": "code",
      "execution_count": null,
      "metadata": {
        "id": "C6MtRYJknp52"
      },
      "outputs": [],
      "source": [
        "import requests\n",
        "from PIL import Image\n",
        "def download_image(image_url): #Downloads images from public bestbuy's URI to local file\n",
        "  try:\n",
        "    response = requests.get(image_url)\n",
        "    response.raise_for_status()  # Raise an exception for error status codes\n",
        "\n",
        "    filename = image_url.rsplit(\"/\", 1)[-1]\n",
        "    # Create the folder if it doesn't exist\n",
        "    folder_path=\"product_images\"\n",
        "    if not os.path.exists(folder_path):\n",
        "      os.makedirs(folder_path)\n",
        "    file_path=f\"product_images/{filename}\"\n",
        "    with open(file_path, \"wb\") as f:\n",
        "      f.write(response.content)\n",
        "      return file_path\n",
        "  except requests.exceptions.HTTPError as err:\n",
        "    if err.response.status_code == 404:\n",
        "        print(\"File not found at the specified URL.\")\n",
        "        return None\n",
        "    else:\n",
        "        print(\"An error occurred:\", err)\n",
        "        return None"
      ]
    },
    {
      "cell_type": "code",
      "execution_count": null,
      "metadata": {
        "id": "6yPZmk7NpHxS"
      },
      "outputs": [],
      "source": [
        "def insert_document(collection,document, verbose=0): #loads the document into the specified collection\n",
        "  try:\n",
        "    # add to the AstraDB Vector Database\n",
        "    collection.insert_one(document)\n",
        "  except Exception as error:\n",
        "    # if you've already added this record, skip the error message\n",
        "    error_info = json.loads(str(error))\n",
        "    if error_info[0]['errorCode'] == \"DOCUMENT_ALREADY_EXISTS\" and verbose>0:\n",
        "      print(\"Document already exists in the database.  Skipping.\")"
      ]
    },
    {
      "cell_type": "code",
      "execution_count": null,
      "metadata": {
        "id": "L6xMxXRPqkFu"
      },
      "outputs": [],
      "source": [
        "from langchain.chat_models import ChatVertexAI\n",
        "\n",
        "llm = ChatVertexAI(project=os.getenv(\"GCP_PROJECT_ID\"), model_name=\"gemini-pro-vision\", region=\"uswest-1\")\n"
      ]
    },
    {
      "cell_type": "code",
      "execution_count": null,
      "metadata": {
        "colab": {
          "base_uri": "https://localhost:8080/"
        },
        "id": "JVngnthwkoy5",
        "outputId": "69e47445-7043-44ab-ddf3-3132b78014d8"
      },
      "outputs": [
        {
          "metadata": {
            "tags": null
          },
          "name": "stderr",
          "output_type": "stream",
          "text": [
            "\rProcessing product catalog:   0%|          | 0/84 [00:00<?, ?it/s]"
          ]
        },
        {
          "metadata": {
            "tags": null
          },
          "name": "stdout",
          "output_type": "stream",
          "text": [
            "File not found at the specified URL.\n",
            "File not found at the specified URL.\n"
          ]
        },
        {
          "metadata": {
            "tags": null
          },
          "name": "stderr",
          "output_type": "stream",
          "text": [
            "\rProcessing product catalog:   1%|          | 1/84 [00:01<02:12,  1.59s/it]"
          ]
        },
        {
          "metadata": {
            "tags": null
          },
          "name": "stdout",
          "output_type": "stream",
          "text": [
            "File not found at the specified URL.\n",
            "File not found at the specified URL.\n"
          ]
        },
        {
          "metadata": {
            "tags": null
          },
          "name": "stderr",
          "output_type": "stream",
          "text": [
            "\rProcessing product catalog:   2%|▏         | 2/84 [00:02<01:44,  1.27s/it]"
          ]
        },
        {
          "metadata": {
            "tags": null
          },
          "name": "stdout",
          "output_type": "stream",
          "text": [
            "File not found at the specified URL.\n",
            "File not found at the specified URL.\n"
          ]
        },
        {
          "metadata": {
            "tags": null
          },
          "name": "stderr",
          "output_type": "stream",
          "text": [
            "\rProcessing product catalog:   5%|▍         | 4/84 [00:03<01:03,  1.25it/s]"
          ]
        },
        {
          "metadata": {
            "tags": null
          },
          "name": "stdout",
          "output_type": "stream",
          "text": [
            "File not found at the specified URL.\n",
            "File not found at the specified URL.\n"
          ]
        },
        {
          "metadata": {
            "tags": null
          },
          "name": "stderr",
          "output_type": "stream",
          "text": [
            "\rProcessing product catalog:   7%|▋         | 6/84 [00:04<00:53,  1.46it/s]"
          ]
        },
        {
          "metadata": {
            "tags": null
          },
          "name": "stdout",
          "output_type": "stream",
          "text": [
            "File not found at the specified URL.\n"
          ]
        },
        {
          "metadata": {
            "tags": null
          },
          "name": "stderr",
          "output_type": "stream",
          "text": [
            "\rProcessing product catalog:   8%|▊         | 7/84 [00:05<00:50,  1.53it/s]"
          ]
        },
        {
          "metadata": {
            "tags": null
          },
          "name": "stdout",
          "output_type": "stream",
          "text": [
            "File not found at the specified URL.\n"
          ]
        },
        {
          "metadata": {
            "tags": null
          },
          "name": "stderr",
          "output_type": "stream",
          "text": [
            "\rProcessing product catalog:  10%|▉         | 8/84 [00:05<00:47,  1.59it/s]"
          ]
        },
        {
          "metadata": {
            "tags": null
          },
          "name": "stdout",
          "output_type": "stream",
          "text": [
            "File not found at the specified URL.\n",
            "File not found at the specified URL.\n",
            "File not found at the specified URL.\n",
            "File not found at the specified URL.\n",
            "File not found at the specified URL.\n"
          ]
        },
        {
          "metadata": {
            "tags": null
          },
          "name": "stderr",
          "output_type": "stream",
          "text": [
            "\rProcessing product catalog:  11%|█         | 9/84 [00:08<01:26,  1.15s/it]"
          ]
        },
        {
          "metadata": {
            "tags": null
          },
          "name": "stdout",
          "output_type": "stream",
          "text": [
            "File not found at the specified URL.\n"
          ]
        },
        {
          "metadata": {
            "tags": null
          },
          "name": "stderr",
          "output_type": "stream",
          "text": [
            "\rProcessing product catalog:  12%|█▏        | 10/84 [00:08<01:11,  1.04it/s]"
          ]
        },
        {
          "metadata": {
            "tags": null
          },
          "name": "stdout",
          "output_type": "stream",
          "text": [
            "File not found at the specified URL.\n",
            "File not found at the specified URL.\n",
            "File not found at the specified URL.\n"
          ]
        },
        {
          "metadata": {
            "tags": null
          },
          "name": "stderr",
          "output_type": "stream",
          "text": [
            "\rProcessing product catalog:  13%|█▎        | 11/84 [00:10<01:21,  1.11s/it]"
          ]
        },
        {
          "metadata": {
            "tags": null
          },
          "name": "stdout",
          "output_type": "stream",
          "text": [
            "File not found at the specified URL.\n"
          ]
        },
        {
          "metadata": {
            "tags": null
          },
          "name": "stderr",
          "output_type": "stream",
          "text": [
            "\rProcessing product catalog:  14%|█▍        | 12/84 [00:10<01:07,  1.06it/s]"
          ]
        },
        {
          "metadata": {
            "tags": null
          },
          "name": "stdout",
          "output_type": "stream",
          "text": [
            "File not found at the specified URL.\n",
            "File not found at the specified URL.\n",
            "File not found at the specified URL.\n"
          ]
        },
        {
          "metadata": {
            "tags": null
          },
          "name": "stderr",
          "output_type": "stream",
          "text": [
            "\rProcessing product catalog:  15%|█▌        | 13/84 [00:12<01:17,  1.10s/it]"
          ]
        },
        {
          "metadata": {
            "tags": null
          },
          "name": "stdout",
          "output_type": "stream",
          "text": [
            "File not found at the specified URL.\n",
            "File not found at the specified URL.\n",
            "File not found at the specified URL.\n"
          ]
        },
        {
          "metadata": {
            "tags": null
          },
          "name": "stderr",
          "output_type": "stream",
          "text": [
            "\rProcessing product catalog:  17%|█▋        | 14/84 [00:13<01:23,  1.20s/it]"
          ]
        },
        {
          "metadata": {
            "tags": null
          },
          "name": "stdout",
          "output_type": "stream",
          "text": [
            "File not found at the specified URL.\n",
            "File not found at the specified URL.\n",
            "File not found at the specified URL.\n"
          ]
        },
        {
          "metadata": {
            "tags": null
          },
          "name": "stderr",
          "output_type": "stream",
          "text": [
            "\rProcessing product catalog:  18%|█▊        | 15/84 [00:15<01:32,  1.34s/it]"
          ]
        },
        {
          "metadata": {
            "tags": null
          },
          "name": "stdout",
          "output_type": "stream",
          "text": [
            "File not found at the specified URL.\n",
            "File not found at the specified URL.\n",
            "File not found at the specified URL.\n"
          ]
        },
        {
          "metadata": {
            "tags": null
          },
          "name": "stderr",
          "output_type": "stream",
          "text": [
            "\rProcessing product catalog:  19%|█▉        | 16/84 [00:17<01:36,  1.42s/it]"
          ]
        },
        {
          "metadata": {
            "tags": null
          },
          "name": "stdout",
          "output_type": "stream",
          "text": [
            "File not found at the specified URL.\n",
            "File not found at the specified URL.\n",
            "File not found at the specified URL.\n",
            "File not found at the specified URL.\n"
          ]
        },
        {
          "metadata": {
            "tags": null
          },
          "name": "stderr",
          "output_type": "stream",
          "text": [
            "\rProcessing product catalog:  20%|██        | 17/84 [00:19<01:49,  1.64s/it]"
          ]
        },
        {
          "metadata": {
            "tags": null
          },
          "name": "stdout",
          "output_type": "stream",
          "text": [
            "File not found at the specified URL.\n",
            "File not found at the specified URL.\n"
          ]
        },
        {
          "metadata": {
            "tags": null
          },
          "name": "stderr",
          "output_type": "stream",
          "text": [
            "\rProcessing product catalog:  21%|██▏       | 18/84 [00:20<01:36,  1.46s/it]"
          ]
        },
        {
          "metadata": {
            "tags": null
          },
          "name": "stdout",
          "output_type": "stream",
          "text": [
            "File not found at the specified URL.\n",
            "File not found at the specified URL.\n"
          ]
        },
        {
          "metadata": {
            "tags": null
          },
          "name": "stderr",
          "output_type": "stream",
          "text": [
            "\rProcessing product catalog:  23%|██▎       | 19/84 [00:23<02:03,  1.90s/it]"
          ]
        },
        {
          "metadata": {
            "tags": null
          },
          "name": "stdout",
          "output_type": "stream",
          "text": [
            "File not found at the specified URL.\n",
            "File not found at the specified URL.\n",
            "File not found at the specified URL.\n",
            "File not found at the specified URL.\n"
          ]
        },
        {
          "metadata": {
            "tags": null
          },
          "name": "stderr",
          "output_type": "stream",
          "text": [
            "\rProcessing product catalog:  26%|██▌       | 22/84 [00:36<03:22,  3.26s/it]"
          ]
        },
        {
          "metadata": {
            "tags": null
          },
          "name": "stdout",
          "output_type": "stream",
          "text": [
            "File not found at the specified URL.\n",
            "File not found at the specified URL.\n",
            "File not found at the specified URL.\n"
          ]
        },
        {
          "metadata": {
            "tags": null
          },
          "name": "stderr",
          "output_type": "stream",
          "text": [
            "\rProcessing product catalog:  27%|██▋       | 23/84 [00:40<03:34,  3.52s/it]"
          ]
        },
        {
          "metadata": {
            "tags": null
          },
          "name": "stdout",
          "output_type": "stream",
          "text": [
            "An error occurred: 504 Server Error: Gateway Time-out for url: http://img.bbystatic.com/BestBuy_US/images/pac/products/1308/1308476184/1308476184_sa.jpg\n",
            "File not found at the specified URL.\n"
          ]
        },
        {
          "output_type": "stream",
          "name": "stderr",
          "text": [
            "Processing product catalog:  30%|██▉       | 25/84 [04:19<52:07, 53.01s/it]"
          ]
        },
        {
          "output_type": "stream",
          "name": "stdout",
          "text": [
            "File not found at the specified URL.\n"
          ]
        },
        {
          "output_type": "stream",
          "name": "stderr",
          "text": [
            "Processing product catalog:  32%|███▏      | 27/84 [09:48<1:39:58, 105.23s/it]"
          ]
        },
        {
          "output_type": "stream",
          "name": "stdout",
          "text": [
            "File not found at the specified URL.\n",
            "File not found at the specified URL.\n",
            "File not found at the specified URL.\n",
            "File not found at the specified URL.\n",
            "File not found at the specified URL.\n",
            "File not found at the specified URL.\n",
            "File not found at the specified URL.\n",
            "File not found at the specified URL.\n",
            "File not found at the specified URL.\n"
          ]
        },
        {
          "output_type": "stream",
          "name": "stderr",
          "text": [
            "\rProcessing product catalog:  33%|███▎      | 28/84 [12:26<1:52:04, 120.09s/it]"
          ]
        },
        {
          "output_type": "stream",
          "name": "stdout",
          "text": [
            "File not found at the specified URL.\n",
            "File not found at the specified URL.\n"
          ]
        },
        {
          "output_type": "stream",
          "name": "stderr",
          "text": [
            "Processing product catalog:  36%|███▌      | 30/84 [19:16<2:28:31, 165.03s/it]"
          ]
        },
        {
          "output_type": "stream",
          "name": "stdout",
          "text": [
            "File not found at the specified URL.\n",
            "File not found at the specified URL.\n",
            "File not found at the specified URL.\n"
          ]
        },
        {
          "output_type": "stream",
          "name": "stderr",
          "text": [
            "\rProcessing product catalog:  37%|███▋      | 31/84 [21:24<2:16:13, 154.22s/it]"
          ]
        },
        {
          "output_type": "stream",
          "name": "stdout",
          "text": [
            "File not found at the specified URL.\n",
            "File not found at the specified URL.\n",
            "File not found at the specified URL.\n",
            "File not found at the specified URL.\n",
            "File not found at the specified URL.\n"
          ]
        },
        {
          "output_type": "stream",
          "name": "stderr",
          "text": [
            "\rProcessing product catalog:  38%|███▊      | 32/84 [24:18<2:18:29, 159.80s/it]"
          ]
        },
        {
          "output_type": "stream",
          "name": "stdout",
          "text": [
            "File not found at the specified URL.\n"
          ]
        },
        {
          "output_type": "stream",
          "name": "stderr",
          "text": [
            "\rProcessing product catalog:  39%|███▉      | 33/84 [27:06<2:17:57, 162.30s/it]"
          ]
        },
        {
          "output_type": "stream",
          "name": "stdout",
          "text": [
            "File not found at the specified URL.\n"
          ]
        },
        {
          "output_type": "stream",
          "name": "stderr",
          "text": [
            "\rProcessing product catalog:  40%|████      | 34/84 [29:37<2:12:33, 159.07s/it]"
          ]
        },
        {
          "output_type": "stream",
          "name": "stdout",
          "text": [
            "File not found at the specified URL.\n",
            "File not found at the specified URL.\n",
            "File not found at the specified URL.\n",
            "File not found at the specified URL.\n",
            "File not found at the specified URL.\n"
          ]
        },
        {
          "output_type": "stream",
          "name": "stderr",
          "text": [
            "\rProcessing product catalog:  42%|████▏     | 35/84 [32:24<2:11:50, 161.43s/it]"
          ]
        },
        {
          "output_type": "stream",
          "name": "stdout",
          "text": [
            "File not found at the specified URL.\n",
            "File not found at the specified URL.\n",
            "File not found at the specified URL.\n",
            "File not found at the specified URL.\n",
            "File not found at the specified URL.\n",
            "File not found at the specified URL.\n",
            "File not found at the specified URL.\n",
            "File not found at the specified URL.\n"
          ]
        },
        {
          "output_type": "stream",
          "name": "stderr",
          "text": [
            "\rProcessing product catalog:  43%|████▎     | 36/84 [35:09<2:09:54, 162.39s/it]"
          ]
        },
        {
          "output_type": "stream",
          "name": "stdout",
          "text": [
            "File not found at the specified URL.\n",
            "File not found at the specified URL.\n"
          ]
        },
        {
          "output_type": "stream",
          "name": "stderr",
          "text": [
            "\rProcessing product catalog:  44%|████▍     | 37/84 [37:42<2:04:55, 159.47s/it]"
          ]
        },
        {
          "output_type": "stream",
          "name": "stdout",
          "text": [
            "File not found at the specified URL.\n",
            "File not found at the specified URL.\n",
            "File not found at the specified URL.\n",
            "File not found at the specified URL.\n",
            "File not found at the specified URL.\n",
            "File not found at the specified URL.\n",
            "File not found at the specified URL.\n",
            "File not found at the specified URL.\n",
            "File not found at the specified URL.\n",
            "File not found at the specified URL.\n"
          ]
        },
        {
          "output_type": "stream",
          "name": "stderr",
          "text": [
            "\rProcessing product catalog:  45%|████▌     | 38/84 [39:42<1:53:19, 147.82s/it]"
          ]
        },
        {
          "output_type": "stream",
          "name": "stdout",
          "text": [
            "File not found at the specified URL.\n",
            "File not found at the specified URL.\n",
            "File not found at the specified URL.\n",
            "File not found at the specified URL.\n",
            "File not found at the specified URL.\n"
          ]
        },
        {
          "output_type": "stream",
          "name": "stderr",
          "text": [
            "\rProcessing product catalog:  46%|████▋     | 39/84 [43:44<2:12:04, 176.11s/it]"
          ]
        },
        {
          "output_type": "stream",
          "name": "stdout",
          "text": [
            "File not found at the specified URL.\n"
          ]
        },
        {
          "output_type": "stream",
          "name": "stderr",
          "text": [
            "\rProcessing product catalog:  48%|████▊     | 40/84 [46:57<2:12:48, 181.10s/it]"
          ]
        },
        {
          "output_type": "stream",
          "name": "stdout",
          "text": [
            "File not found at the specified URL.\n",
            "File not found at the specified URL.\n",
            "File not found at the specified URL.\n",
            "File not found at the specified URL.\n",
            "File not found at the specified URL.\n",
            "File not found at the specified URL.\n",
            "File not found at the specified URL.\n",
            "File not found at the specified URL.\n",
            "File not found at the specified URL.\n",
            "File not found at the specified URL.\n"
          ]
        },
        {
          "output_type": "stream",
          "name": "stderr",
          "text": [
            "\rProcessing product catalog:  49%|████▉     | 41/84 [49:32<2:04:06, 173.18s/it]"
          ]
        },
        {
          "output_type": "stream",
          "name": "stdout",
          "text": [
            "File not found at the specified URL.\n"
          ]
        },
        {
          "output_type": "stream",
          "name": "stderr",
          "text": [
            "\rProcessing product catalog:  50%|█████     | 42/84 [53:22<2:13:15, 190.36s/it]"
          ]
        },
        {
          "output_type": "stream",
          "name": "stdout",
          "text": [
            "File not found at the specified URL.\n",
            "File not found at the specified URL.\n",
            "File not found at the specified URL.\n"
          ]
        },
        {
          "output_type": "stream",
          "name": "stderr",
          "text": [
            "\rProcessing product catalog:  51%|█████     | 43/84 [55:34<1:58:05, 172.82s/it]"
          ]
        },
        {
          "output_type": "stream",
          "name": "stdout",
          "text": [
            "File not found at the specified URL.\n",
            "File not found at the specified URL.\n",
            "File not found at the specified URL.\n",
            "File not found at the specified URL.\n",
            "File not found at the specified URL.\n",
            "File not found at the specified URL.\n",
            "File not found at the specified URL.\n",
            "File not found at the specified URL.\n",
            "File not found at the specified URL.\n"
          ]
        },
        {
          "output_type": "stream",
          "name": "stderr",
          "text": [
            "\rProcessing product catalog:  52%|█████▏    | 44/84 [57:55<1:48:55, 163.39s/it]"
          ]
        },
        {
          "output_type": "stream",
          "name": "stdout",
          "text": [
            "File not found at the specified URL.\n",
            "File not found at the specified URL.\n",
            "File not found at the specified URL.\n",
            "File not found at the specified URL.\n",
            "File not found at the specified URL.\n"
          ]
        },
        {
          "output_type": "stream",
          "name": "stderr",
          "text": [
            "\rProcessing product catalog:  54%|█████▎    | 45/84 [1:00:45<1:47:18, 165.09s/it]"
          ]
        },
        {
          "output_type": "stream",
          "name": "stdout",
          "text": [
            "File not found at the specified URL.\n",
            "File not found at the specified URL.\n",
            "File not found at the specified URL.\n",
            "File not found at the specified URL.\n",
            "File not found at the specified URL.\n",
            "File not found at the specified URL.\n",
            "File not found at the specified URL.\n"
          ]
        },
        {
          "output_type": "stream",
          "name": "stderr",
          "text": [
            "\rProcessing product catalog:  55%|█████▍    | 46/84 [1:02:52<1:37:26, 153.84s/it]"
          ]
        },
        {
          "output_type": "stream",
          "name": "stdout",
          "text": [
            "File not found at the specified URL.\n",
            "File not found at the specified URL.\n",
            "File not found at the specified URL.\n",
            "File not found at the specified URL.\n"
          ]
        },
        {
          "output_type": "stream",
          "name": "stderr",
          "text": [
            "\rProcessing product catalog:  56%|█████▌    | 47/84 [1:05:46<1:38:38, 159.96s/it]"
          ]
        },
        {
          "output_type": "stream",
          "name": "stdout",
          "text": [
            "File not found at the specified URL.\n"
          ]
        },
        {
          "output_type": "stream",
          "name": "stderr",
          "text": [
            "\rProcessing product catalog:  57%|█████▋    | 48/84 [1:09:28<1:47:07, 178.55s/it]"
          ]
        },
        {
          "output_type": "stream",
          "name": "stdout",
          "text": [
            "File not found at the specified URL.\n",
            "File not found at the specified URL.\n",
            "File not found at the specified URL.\n",
            "File not found at the specified URL.\n",
            "File not found at the specified URL.\n"
          ]
        },
        {
          "output_type": "stream",
          "name": "stderr",
          "text": [
            "\rProcessing product catalog:  58%|█████▊    | 49/84 [1:12:42<1:46:50, 183.16s/it]"
          ]
        },
        {
          "output_type": "stream",
          "name": "stdout",
          "text": [
            "File not found at the specified URL.\n",
            "File not found at the specified URL.\n",
            "File not found at the specified URL.\n",
            "File not found at the specified URL.\n",
            "File not found at the specified URL.\n"
          ]
        },
        {
          "output_type": "stream",
          "name": "stderr",
          "text": [
            "Processing product catalog:  61%|██████    | 51/84 [1:18:26<1:40:44, 183.15s/it]"
          ]
        },
        {
          "output_type": "stream",
          "name": "stdout",
          "text": [
            "File not found at the specified URL.\n",
            "File not found at the specified URL.\n",
            "File not found at the specified URL.\n",
            "File not found at the specified URL.\n",
            "File not found at the specified URL.\n"
          ]
        },
        {
          "output_type": "stream",
          "name": "stderr",
          "text": [
            "\rProcessing product catalog:  62%|██████▏   | 52/84 [1:21:44<1:40:04, 187.64s/it]"
          ]
        },
        {
          "output_type": "stream",
          "name": "stdout",
          "text": [
            "File not found at the specified URL.\n",
            "File not found at the specified URL.\n",
            "File not found at the specified URL.\n",
            "File not found at the specified URL.\n",
            "File not found at the specified URL.\n",
            "File not found at the specified URL.\n",
            "File not found at the specified URL.\n",
            "File not found at the specified URL.\n",
            "File not found at the specified URL.\n",
            "File not found at the specified URL.\n",
            "File not found at the specified URL.\n",
            "File not found at the specified URL.\n",
            "File not found at the specified URL.\n",
            "File not found at the specified URL.\n",
            "File not found at the specified URL.\n",
            "File not found at the specified URL.\n",
            "File not found at the specified URL.\n"
          ]
        },
        {
          "output_type": "stream",
          "name": "stderr",
          "text": [
            "\rProcessing product catalog:  63%|██████▎   | 53/84 [1:23:52<1:27:37, 169.60s/it]"
          ]
        },
        {
          "output_type": "stream",
          "name": "stdout",
          "text": [
            "File not found at the specified URL.\n",
            "File not found at the specified URL.\n",
            "File not found at the specified URL.\n",
            "File not found at the specified URL.\n",
            "File not found at the specified URL.\n"
          ]
        },
        {
          "output_type": "stream",
          "name": "stderr",
          "text": [
            "\rProcessing product catalog:  64%|██████▍   | 54/84 [1:26:25<1:22:26, 164.89s/it]"
          ]
        },
        {
          "output_type": "stream",
          "name": "stdout",
          "text": [
            "File not found at the specified URL.\n",
            "File not found at the specified URL.\n",
            "File not found at the specified URL.\n",
            "File not found at the specified URL.\n"
          ]
        },
        {
          "output_type": "stream",
          "name": "stderr",
          "text": [
            "\rProcessing product catalog:  65%|██████▌   | 55/84 [1:30:05<1:27:36, 181.26s/it]"
          ]
        },
        {
          "output_type": "stream",
          "name": "stdout",
          "text": [
            "File not found at the specified URL.\n",
            "File not found at the specified URL.\n"
          ]
        },
        {
          "output_type": "stream",
          "name": "stderr",
          "text": [
            "Processing product catalog:  70%|███████   | 59/84 [1:41:05<1:10:46, 169.87s/it]"
          ]
        },
        {
          "output_type": "stream",
          "name": "stdout",
          "text": [
            "File not found at the specified URL.\n",
            "File not found at the specified URL.\n",
            "File not found at the specified URL.\n",
            "File not found at the specified URL.\n",
            "File not found at the specified URL.\n",
            "File not found at the specified URL.\n",
            "File not found at the specified URL.\n"
          ]
        },
        {
          "output_type": "stream",
          "name": "stderr",
          "text": [
            "\rProcessing product catalog:  71%|███████▏  | 60/84 [1:44:57<1:15:23, 188.49s/it]"
          ]
        },
        {
          "output_type": "stream",
          "name": "stdout",
          "text": [
            "File not found at the specified URL.\n",
            "File not found at the specified URL.\n",
            "File not found at the specified URL.\n"
          ]
        },
        {
          "output_type": "stream",
          "name": "stderr",
          "text": [
            "\rProcessing product catalog:  73%|███████▎  | 61/84 [1:47:10<1:05:53, 171.90s/it]"
          ]
        },
        {
          "output_type": "stream",
          "name": "stdout",
          "text": [
            "File not found at the specified URL.\n",
            "File not found at the specified URL.\n",
            "File not found at the specified URL.\n",
            "File not found at the specified URL.\n"
          ]
        },
        {
          "output_type": "stream",
          "name": "stderr",
          "text": [
            "\rProcessing product catalog:  74%|███████▍  | 62/84 [1:49:32<59:45, 163.00s/it]  "
          ]
        },
        {
          "output_type": "stream",
          "name": "stdout",
          "text": [
            "File not found at the specified URL.\n",
            "File not found at the specified URL.\n",
            "File not found at the specified URL.\n",
            "File not found at the specified URL.\n",
            "File not found at the specified URL.\n"
          ]
        },
        {
          "output_type": "stream",
          "name": "stderr",
          "text": [
            "\rProcessing product catalog:  75%|███████▌  | 63/84 [1:51:56<55:04, 157.38s/it]"
          ]
        },
        {
          "output_type": "stream",
          "name": "stdout",
          "text": [
            "File not found at the specified URL.\n",
            "File not found at the specified URL.\n",
            "File not found at the specified URL.\n",
            "File not found at the specified URL.\n",
            "File not found at the specified URL.\n"
          ]
        },
        {
          "output_type": "stream",
          "name": "stderr",
          "text": [
            "\rProcessing product catalog:  76%|███████▌  | 64/84 [1:54:49<53:58, 161.94s/it]"
          ]
        },
        {
          "output_type": "stream",
          "name": "stdout",
          "text": [
            "File not found at the specified URL.\n",
            "File not found at the specified URL.\n",
            "File not found at the specified URL.\n",
            "File not found at the specified URL.\n"
          ]
        },
        {
          "output_type": "stream",
          "name": "stderr",
          "text": [
            "\rProcessing product catalog:  77%|███████▋  | 65/84 [1:57:19<50:11, 158.48s/it]"
          ]
        },
        {
          "output_type": "stream",
          "name": "stdout",
          "text": [
            "File not found at the specified URL.\n",
            "File not found at the specified URL.\n",
            "File not found at the specified URL.\n",
            "File not found at the specified URL.\n",
            "File not found at the specified URL.\n",
            "File not found at the specified URL.\n",
            "File not found at the specified URL.\n",
            "File not found at the specified URL.\n",
            "File not found at the specified URL.\n",
            "File not found at the specified URL.\n",
            "File not found at the specified URL.\n"
          ]
        },
        {
          "output_type": "stream",
          "name": "stderr",
          "text": [
            "\rProcessing product catalog:  79%|███████▊  | 66/84 [1:59:35<45:31, 151.74s/it]"
          ]
        },
        {
          "output_type": "stream",
          "name": "stdout",
          "text": [
            "File not found at the specified URL.\n",
            "File not found at the specified URL.\n",
            "File not found at the specified URL.\n"
          ]
        },
        {
          "output_type": "stream",
          "name": "stderr",
          "text": [
            "\rProcessing product catalog:  80%|███████▉  | 67/84 [2:02:39<45:42, 161.34s/it]"
          ]
        },
        {
          "output_type": "stream",
          "name": "stdout",
          "text": [
            "File not found at the specified URL.\n",
            "File not found at the specified URL.\n"
          ]
        },
        {
          "output_type": "stream",
          "name": "stderr",
          "text": [
            "\rProcessing product catalog:  81%|████████  | 68/84 [2:05:34<44:04, 165.28s/it]"
          ]
        },
        {
          "output_type": "stream",
          "name": "stdout",
          "text": [
            "File not found at the specified URL.\n",
            "File not found at the specified URL.\n",
            "File not found at the specified URL.\n",
            "File not found at the specified URL.\n",
            "File not found at the specified URL.\n",
            "File not found at the specified URL.\n"
          ]
        },
        {
          "output_type": "stream",
          "name": "stderr",
          "text": [
            "\rProcessing product catalog:  82%|████████▏ | 69/84 [2:08:59<44:21, 177.46s/it]"
          ]
        },
        {
          "output_type": "stream",
          "name": "stdout",
          "text": [
            "File not found at the specified URL.\n",
            "File not found at the specified URL.\n",
            "File not found at the specified URL.\n",
            "File not found at the specified URL.\n",
            "File not found at the specified URL.\n",
            "File not found at the specified URL.\n"
          ]
        },
        {
          "output_type": "stream",
          "name": "stderr",
          "text": [
            "Processing product catalog:  86%|████████▌ | 72/84 [2:16:55<33:03, 165.33s/it]"
          ]
        },
        {
          "output_type": "stream",
          "name": "stdout",
          "text": [
            "File not found at the specified URL.\n",
            "File not found at the specified URL.\n"
          ]
        },
        {
          "output_type": "stream",
          "name": "stderr",
          "text": [
            "\rProcessing product catalog:  87%|████████▋ | 73/84 [2:19:58<31:16, 170.56s/it]"
          ]
        },
        {
          "output_type": "stream",
          "name": "stdout",
          "text": [
            "File not found at the specified URL.\n",
            "File not found at the specified URL.\n",
            "File not found at the specified URL.\n",
            "File not found at the specified URL.\n"
          ]
        },
        {
          "output_type": "stream",
          "name": "stderr",
          "text": [
            "Processing product catalog:  95%|█████████▌| 80/84 [2:40:21<11:29, 172.34s/it]"
          ]
        },
        {
          "output_type": "stream",
          "name": "stdout",
          "text": [
            "File not found at the specified URL.\n",
            "File not found at the specified URL.\n"
          ]
        },
        {
          "output_type": "stream",
          "name": "stderr",
          "text": [
            "\rProcessing product catalog:  96%|█████████▋| 81/84 [2:41:36<07:09, 143.19s/it]"
          ]
        },
        {
          "output_type": "stream",
          "name": "stdout",
          "text": [
            "File not found at the specified URL.\n",
            "File not found at the specified URL.\n"
          ]
        },
        {
          "output_type": "stream",
          "name": "stderr",
          "text": [
            "\rProcessing product catalog:  98%|█████████▊| 82/84 [2:44:50<05:16, 158.19s/it]"
          ]
        },
        {
          "output_type": "stream",
          "name": "stdout",
          "text": [
            "File not found at the specified URL.\n",
            "File not found at the specified URL.\n",
            "File not found at the specified URL.\n",
            "File not found at the specified URL.\n",
            "File not found at the specified URL.\n"
          ]
        },
        {
          "output_type": "stream",
          "name": "stderr",
          "text": [
            "\rProcessing product catalog:  99%|█████████▉| 83/84 [2:47:40<02:41, 161.86s/it]"
          ]
        },
        {
          "output_type": "stream",
          "name": "stdout",
          "text": [
            "File not found at the specified URL.\n",
            "File not found at the specified URL.\n"
          ]
        },
        {
          "output_type": "stream",
          "name": "stderr",
          "text": [
            "Processing product catalog: 100%|██████████| 84/84 [2:49:05<00:00, 120.78s/it]\n"
          ]
        }
      ],
      "source": [
        "import tqdm, time\n",
        "from vertexai.preview.vision_models import MultiModalEmbeddingModel, Image\n",
        "\n",
        "model = MultiModalEmbeddingModel.from_pretrained(\"multimodalembedding@001\")\n",
        "multimodalembedding_requests_per_minute=120\n",
        "batch_size=multimodalembedding_requests_per_minute\n",
        "\n",
        "# Process product catalog in batches of 1000\n",
        "for batch_start in tqdm.tqdm(range(0, len(products_slice), batch_size), desc=\"Processing product catalog\"):\n",
        "    batch_products = products_slice[batch_start:batch_start + batch_size]\n",
        "\n",
        "    # Create embeddings for the batch of products\n",
        "    t1 = time.perf_counter()\n",
        "    for product in batch_products:\n",
        "      filename = product['image'].rsplit(\"/\", 1)[-1]\n",
        "      import os.path\n",
        "      if not os.path.exists(f\"product_images/{filename}\"):\n",
        "        product[\"_id\"] = product[\"sku\"]\n",
        "        product[\"description\"] = f'{product[\"name\"]}. {product[\"description\"]}'\n",
        "        product[\"main_category\"] = product[\"category\"][0]\n",
        "        filename=download_image(product['image'])\n",
        "        if filename is not None:\n",
        "          img = Image.load_from_file(filename)\n",
        "          embeddings = model.get_embeddings(image=img, contextual_text=product['description'])\n",
        "        else:\n",
        "          embeddings = model.get_embeddings(contextual_text=product['description'])\n",
        "        product[\"$vector\"] = embeddings.text_embedding\n",
        "        insert_document(collection_descriptions,product)\n",
        "        if filename is not None:\n",
        "          product[\"$vector\"] = embeddings.image_embedding\n",
        "          insert_document(collection_images,product)\n",
        "    #t2 = time.perf_counter()\n",
        "    #if t2-t1<60:\n",
        "    #  time.sleep(60-(t2-t1)) #to stay under GCP's API requests quota\n"
      ]
    },
    {
      "cell_type": "markdown",
      "source": [
        "## Experiment Querying the Database\n",
        "We'll run a couple of queries using text, and image as input."
      ],
      "metadata": {
        "id": "3ITq_k9xg6wJ"
      }
    },
    {
      "cell_type": "code",
      "execution_count": null,
      "metadata": {
        "colab": {
          "base_uri": "https://localhost:8080/"
        },
        "id": "gy209OHAuobB",
        "outputId": "847a0038-0322-44eb-ce7e-f77b6b8a60d4"
      },
      "outputs": [
        {
          "output_type": "stream",
          "name": "stdout",
          "text": [
            "name, image, price, url\n",
            "Griffin Technology - GuitarConnect Cable - Black, http://img.bbystatic.com/BestBuy_US/images/products/1114/1114103_sa.jpg, 29.99, http://www.bestbuy.com/site/griffin-technology-guitarconnect-cable-black/1114103.p?id=1219470055093&skuId=1114103&cmp=RMXCC,\n",
            "Blue Microphones - Mo-Fi Over-the-Ear Headphones - Gray, http://img.bbystatic.com/BestBuy_US/images/products/1095/1095039_sa.jpg, 349.98, http://www.bestbuy.com/site/blue-microphones-mo-fi-over-the-ear-headphones-gray/1095039.p?id=1219469043846&skuId=1095039&cmp=RMXCC,\n",
            "Bell'O - TV Stand for Flat-Panel TVs Up to 52\" - Cherry, http://img.bbystatic.com/BestBuy_US/images/products/1111/1111949_sa.jpg, 349.99, http://www.bestbuy.com/site/bello-tv-stand-for-flat-panel-tvs-up-to-52-cherry/1111949.p?id=1218220770595&skuId=1111949&cmp=RMXCC,\n",
            "\n"
          ]
        }
      ],
      "source": [
        "import json\n",
        "from vertexai.preview.vision_models import MultiModalEmbeddingModel, Image\n",
        "from langchain.schema.messages import HumanMessage\n",
        "\n",
        "model = MultiModalEmbeddingModel.from_pretrained(\"multimodalembedding@001\")\n",
        "\n",
        "# Embed the similar item\n",
        "img = Image.load_from_file('2877554_sa.jpg')\n",
        "embeddings = model.get_embeddings(image=img, contextual_text=\"\")\n",
        "\n",
        "# Perform the vector search against AstraDB Vector\n",
        "documents = collection_images.vector_find(\n",
        "    embeddings.image_embedding,\n",
        "    limit=3,\n",
        ")\n",
        "\n",
        "related_products_csv = \"name, image, price, url\\n\"\n",
        "for doc in documents:\n",
        "  related_products_csv += f\"{doc['name']}, {doc['image']}, {doc['price']}, {doc['url']},\\n\"\n",
        "print(related_products_csv)"
      ]
    },
    {
      "cell_type": "code",
      "execution_count": null,
      "metadata": {
        "colab": {
          "base_uri": "https://localhost:8080/"
        },
        "id": "6hvSg5I4yyFz",
        "outputId": "7878185b-a33c-4bcd-dd76-47723a63fed4"
      },
      "outputs": [
        {
          "output_type": "stream",
          "name": "stdout",
          "text": [
            "name, image, price, url\n",
            "Blueair - SmokeStop Filter for Blueair 200 and 300 Series Air Purifiers - Black, http://img.bbystatic.com/BestBuy_US/images/products/1197/1197082_sa.jpg, 99.99, http://www.bestbuy.com/site/blueair-smokestop-filter-for-blueair-200-and-300-series-air-purifiers-black/1197082.p?id=1218231508373&skuId=1197082CC,\n",
            "Pro Tools Tier 2 Audio Plug-In for PC and Mac Activation Card - Windows|Mac, http://img.bbystatic.com/BestBuy_US/images/products/1003/1003278_sa.jpg, 299, http://www.bestbuy.com/site/pro-tools-tier-2-audio-plug-in-for-pc-and-mac-activation-card-windowsmac/1003278.p?id=1219460772921&skuId=1003278CC,\n",
            "Acoustic Rock TrackPak - Mac, http://img.bbystatic.com/BestBuy_US/images/products/1003/1003373_sa.jpg, 29.99, http://www.bestbuy.com/site/acoustic-rock-trackpak-mac/1003373.p?id=1219460754207&skuId=1003373CC,\n",
            "\n"
          ]
        }
      ],
      "source": [
        "embeddings = model.get_embeddings(contextual_text=\"AudioQuest - Niagara 1200 Low-Z Power Conditioner\")\n",
        "\n",
        "# Perform the vector search against AstraDB Vector\n",
        "documents = collection_descriptions.vector_find(\n",
        "    embeddings.text_embedding,\n",
        "    limit=3,\n",
        ")\n",
        "\n",
        "related_products_csv = \"name, image, price, url\\n\"\n",
        "for doc in documents:\n",
        "  related_products_csv += f\"{doc['name']}, {doc['image']}, {doc['price']}, {doc['url']},\\n\"\n",
        "print(related_products_csv)"
      ]
    }
  ],
  "metadata": {
    "colab": {
      "provenance": [],
      "collapsed_sections": [
        "WyOlOCBffReR"
      ],
      "toc_visible": true
    },
    "kernelspec": {
      "display_name": "Python 3",
      "name": "python3"
    },
    "language_info": {
      "name": "python"
    }
  },
  "nbformat": 4,
  "nbformat_minor": 0
}